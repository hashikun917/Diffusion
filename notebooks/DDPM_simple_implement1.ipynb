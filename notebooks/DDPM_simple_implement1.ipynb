{
 "cells": [
  {
   "cell_type": "code",
   "execution_count": 1,
   "id": "532d2aaa-f5f6-4193-a464-236f5e8b3018",
   "metadata": {
    "id": "532d2aaa-f5f6-4193-a464-236f5e8b3018"
   },
   "outputs": [],
   "source": [
    "import matplotlib.pyplot as plt\n",
    "import matplotlib as mpl\n",
    "import pandas as pd\n",
    "import numpy as np\n",
    "import torch\n",
    "import seaborn as sns\n",
    "import itertools\n",
    "from tqdm.auto import tqdm"
   ]
  },
  {
   "cell_type": "code",
   "execution_count": 2,
   "id": "4ac9fb3e-6510-4e61-9b33-db2c08813d14",
   "metadata": {
    "colab": {
     "base_uri": "https://localhost:8080/",
     "height": 447
    },
    "id": "4ac9fb3e-6510-4e61-9b33-db2c08813d14",
    "outputId": "159b60ac-398e-4a09-c682-acf6c53518d9"
   },
   "outputs": [
    {
     "data": {
      "text/plain": [
       "<matplotlib.collections.PathCollection at 0x149894243c50>"
      ]
     },
     "execution_count": 2,
     "metadata": {},
     "output_type": "execute_result"
    },
    {
     "data": {
      "image/png": "[encoded data removed]",
      "text/plain": [
       "<Figure size 640x480 with 1 Axes>"
      ]
     },
     "metadata": {},
     "output_type": "display_data"
    }
   ],
   "source": [
    "import torch.distributions as dist\n",
    "\n",
    "data_distribution = torch.distributions.mixture_same_family.MixtureSameFamily(\n",
    "    torch.distributions.Categorical(torch.tensor([1, 2]).float()),\n",
    "    dist.MultivariateNormal(\n",
    "        torch.tensor([[-4, -4], [4, 4]]).float(), # 各成分の平均\n",
    "        torch.tensor([[[1, 0], [0, 1]],\n",
    "                     [[1, 0], [0, 1]]]).float()\n",
    "    )\n",
    ")\n",
    "\n",
    "\n",
    "dataset = data_distribution.sample(torch.Size([10000, 1]))\n",
    "# tensor.Size([1000, 1, 2]) to tensor.Size([1000, 2])\n",
    "dataset = dataset.view(10000, 2)\n",
    "#dataset = data_distribution.sample(torch.Size([1000, 1]))\n",
    "\n",
    "\n",
    "#sns.histplot(dataset[:,0])\n",
    "#plt.show()\n",
    "plt.scatter(dataset.view(10000, 2)[:,0], dataset.view(10000, 2)[:,1])"
   ]
  },
  {
   "cell_type": "markdown",
   "id": "929ddce2-c866-4319-8f28-5873f859c467",
   "metadata": {
    "id": "929ddce2-c866-4319-8f28-5873f859c467"
   },
   "source": [
    "このプロットはデータの分布を表している、 すなわち$q(x_0)$である。見てわかるように、我々のトレーニングデータセットは2つのガウス分布の混合からのサンプルを含み、右側の成分は2倍の頻度でサンプリングされています。\n",
    "\n",
    "拡散過程の分布は次で与えられる；\n",
    "\n",
    "\\begin{align}\n",
    "q(x_{1:T}|x_0) := \\Pi_{t=1}^{T}q(x_t|x_{t-1})\n",
    "\\end{align}\n",
    "\n",
    "ただし、各ステップでガウスノイズを付加していく；\n",
    "\n",
    "\\begin{align}\n",
    "q(x_t|x_{t-1}) = \\mathcal{N}(x_t|\\sqrt{1 - \\beta_t}x_{t-1};\\beta_t I)\n",
    "\\end{align}\n",
    "\n",
    "この分布の平均と分散は、拡散プロセス後の$x_T$の最終分布が平均0、単位分散のガウス分布になるように設定されたものである。"
   ]
  },
  {
   "cell_type": "markdown",
   "id": "18a5f700-d7ee-4b41-8f4d-218075783f2f",
   "metadata": {
    "id": "18a5f700-d7ee-4b41-8f4d-218075783f2f"
   },
   "source": [
    "この過程はループで簡単に実装できる"
   ]
  },
  {
   "cell_type": "code",
   "execution_count": 3,
   "id": "21d1a707-343f-43f9-b1ef-acd32df9e850",
   "metadata": {
    "id": "21d1a707-343f-43f9-b1ef-acd32df9e850"
   },
   "outputs": [],
   "source": [
    "TIME_STEPS = 300\n",
    "# TIME_STEPS = 250\n",
    "\n",
    "\"\"\"\n",
    "BETAをいろいろためしたい\n",
    "\"\"\"\n",
    "BETA = 0.02 # 時間に関わらず固定"
   ]
  },
  {
   "cell_type": "code",
   "execution_count": 4,
   "id": "a06bc8d6-99a9-4516-96f4-e7568b95cb89",
   "metadata": {
    "id": "a06bc8d6-99a9-4516-96f4-e7568b95cb89"
   },
   "outputs": [],
   "source": [
    "# CPU\n",
    "\n",
    "def do_diffusion(data, steps=TIME_STEPS, beta=BETA):\n",
    "    # perform diffusion\n",
    "    # returns a list of q(x(t)) and x(t)\n",
    "    # starting from t=0 (i.e., the dataset)\n",
    "\n",
    "    distributions, samples = [None], [data]\n",
    "    xt = data\n",
    "    for t in range(steps):\n",
    "\n",
    "        q = torch.distributions.MultivariateNormal(\n",
    "            np.sqrt(1 - beta) * xt,\n",
    "            np.sqrt(beta) * torch.tensor([[[1, 0], [0, 1]]])\n",
    "        )\n",
    "\n",
    "        \n",
    "        xt = q.sample()\n",
    "\n",
    "        distributions.append(q)\n",
    "        samples.append(xt)\n",
    "\n",
    "    return distributions, samples"
   ]
  },
  {
   "cell_type": "code",
   "execution_count": 5,
   "id": "70505c86",
   "metadata": {
    "id": "a06bc8d6-99a9-4516-96f4-e7568b95cb89"
   },
   "outputs": [],
   "source": [
    "# GPU\n",
    "\n",
    "device = torch.device(\"cuda\" if torch.cuda.is_available else \"cpu\")\n",
    "\n",
    "def do_diffusion(data, steps=TIME_STEPS, beta=BETA, device=device):\n",
    "    # perform diffusion\n",
    "    # returns a list of q(x(t)) and x(t)\n",
    "    # starting from t=0 (i.e., the dataset)\n",
    "\n",
    "    distributions, samples = [None], [data]\n",
    "    xt = data\n",
    "    xt = xt.to(device)\n",
    "    for t in range(steps):\n",
    "\n",
    "        q = torch.distributions.MultivariateNormal(\n",
    "            np.sqrt(1 - beta) * xt,\n",
    "            np.sqrt(beta) * torch.tensor([[[1, 0], [0, 1]]], device=device)\n",
    "        )\n",
    "\n",
    "        \"\"\"\n",
    "        q = torch.distributions.Normal(\n",
    "            np.sqrt(1 - beta) * xt,\n",
    "            np.sqrt(beta)\n",
    "        )\n",
    "        \"\"\"\n",
    "        xt = q.sample()\n",
    "        xt = xt.to(device)\n",
    "\n",
    "        distributions.append(q)\n",
    "        samples.append(xt)\n",
    "\n",
    "    return distributions, samples"
   ]
  },
  {
   "cell_type": "code",
   "execution_count": 6,
   "id": "6587e282-5fd0-4bf1-9a02-2d7d60ca4f08",
   "metadata": {
    "id": "6587e282-5fd0-4bf1-9a02-2d7d60ca4f08"
   },
   "outputs": [],
   "source": [
    "_, samples = do_diffusion(dataset)"
   ]
  },
  {
   "cell_type": "code",
   "execution_count": 7,
   "id": "ac1969ba-a2e0-486b-abf2-261437db8256",
   "metadata": {
    "colab": {
     "base_uri": "https://localhost:8080/",
     "height": 447
    },
    "id": "ac1969ba-a2e0-486b-abf2-261437db8256",
    "outputId": "0b8be3c8-6eee-4e00-c407-e32b836d3c33"
   },
   "outputs": [
    {
     "data": {
      "text/plain": [
       "<matplotlib.collections.PathCollection at 0x14988412d910>"
      ]
     },
     "execution_count": 7,
     "metadata": {},
     "output_type": "execute_result"
    },
    {
     "data": {
      "image/png": "[encoded data removed]",
      "text/plain": [
       "<Figure size 640x480 with 1 Axes>"
      ]
     },
     "metadata": {},
     "output_type": "display_data"
    }
   ],
   "source": [
    "plt.scatter(x=samples[0][:,0], y=samples[0][:,1])"
   ]
  },
  {
   "cell_type": "markdown",
   "id": "a9fa5166-653c-4c32-9d1d-e12292278a34",
   "metadata": {
    "id": "a9fa5166-653c-4c32-9d1d-e12292278a34"
   },
   "source": [
    "拡散過程を視覚化するために、時間をX軸に、拡散したサンプルをY軸にプロットします。"
   ]
  },
  {
   "cell_type": "markdown",
   "id": "c6380730-a768-4e6a-9702-dc5566435f9f",
   "metadata": {
    "id": "c6380730-a768-4e6a-9702-dc5566435f9f"
   },
   "source": [
    "ご覧の通り、ノイズを加えると徐々にデータ分布からのサンプルが正規分布$\\mathcal{N}(0,1)$に近づいていくのがわかる。これでこの過程を逆転させるモデルを訓練する準備が整った。"
   ]
  },
  {
   "cell_type": "markdown",
   "id": "5de93d9f-a117-4396-beaf-b75b5df592ae",
   "metadata": {
    "id": "5de93d9f-a117-4396-beaf-b75b5df592ae"
   },
   "source": [
    "# Training"
   ]
  },
  {
   "cell_type": "markdown",
   "id": "56fafeda-f0e2-4a96-b7d6-bb581bbbf2d8",
   "metadata": {
    "id": "56fafeda-f0e2-4a96-b7d6-bb581bbbf2d8"
   },
   "source": [
    "できるだけ単純に保つために、ここでは論文の方程式3における損失を使用しており、後に提示される最適化は複雑な実世界の分布にのみ役割を果たします。\n",
    "この場合、拡散モデルはまず訓練例を汚染することによって訓練され、その後、汚染プロセスの各ステップでノイズの多い例からよりクリーンな例を再構築しようとします。損失は負の対数尤度の上限です：\n",
    "\n",
    "\\begin{align}\n",
    "L := \\mathbb{E}\\left[- \\log p(x_T) - \\sum_{t=1}^{T}\\log\\frac{p_{\\theta}(x_{t-1}|x_t)}{q(x_t|x_{t-1})}\\right]\n",
    "\\end{align}\n",
    "\n",
    "ただし、生成モデル（逆拡散モデル）は\n",
    "\n",
    "\\begin{align}\n",
    "p_{\\theta}(x_{t-1}|x_t) := \\mathcal{N}(x_{t-1};\\mu_{\\theta}(x_t,t), \\Sigma_{\\theta}(x_t,t))\n",
    "\\end{align}\n",
    "\n",
    "2つのニューラルネットワーク、$\\mu_{\\theta}$と$\\Sigma_{\\theta}$を訓練していることに注意してください。これらはノイズの多いサンプル$x_t$とステップ$t$を入力として受け取り、ノイズが加えられる前のサンプル$x_{t-1}$の分布のパラメータを予測しようとします。直感的には、これらのネットワークを訓練して、未汚染の例$x_{t-1}$を観測する予測確率を最大化することです。つまり、損失の中の項$p_{\\theta}(x_{t-1}|x_t)$を、各拡散ステップで最大化します。覚えておいてください、$x_t$は以前$x_{t-1}$にノイズを加えることによって生成されました。ネットワークはノイズを元に戻す方法を学ばなければなりません。損失に含まれる他の項$q(x_t|x_{t-1})$は、一定であるため、良い生成モデルを学ぶためには必要ありませんが、「完璧な」生成モデルが損失0を達成するための「参照枠」として役立ちます。\n",
    "損失は以下の関数で実装されています。この関数は、訓練サンプルの完全な拡散軌跡と、逆プロセスを定義する2つのニューラルネットワークを必要とします："
   ]
  },
  {
   "cell_type": "code",
   "execution_count": 8,
   "id": "a93d877c-3bbe-4857-8977-aab6f62a6af1",
   "metadata": {
    "id": "a93d877c-3bbe-4857-8977-aab6f62a6af1"
   },
   "outputs": [],
   "source": [
    "# CPU\n",
    "\n",
    "def compute_loss(forward_distributions, forward_samples, mean_model, var_model):\n",
    "    # here we compute the loss\n",
    "    # forward = q, reverse = p\n",
    "\n",
    "    # loss for x(T)\n",
    "    p = torch.distributions.MultivariateNormal(\n",
    "        torch.zeros(forward_samples[0].shape),\n",
    "        torch.tensor([[[1, 0], [0, 1]]]).float()\n",
    "    )\n",
    "    # 損失関数1項目：-logp(x(T))の計算\n",
    "    loss = -p.log_prob(forward_samples[-1]).mean()\n",
    "\n",
    "    for t in range(1, len(forward_samples)):\n",
    "        xt = forward_samples[t]# x(t)\n",
    "        xprev = forward_samples[t-1] # x(t-1)\n",
    "        q = forward_distributions[t] # q(x(t)|x(t-1))\n",
    "\n",
    "        # normalize t between 0 and 1 and add it as a new column\n",
    "        # to the inputs of the mu and sigma networks\n",
    "        # tensor.Size([1000, 2]) to tensor.Size([1000, 3]) 時刻情報を連結\n",
    "        xin = torch.cat(\n",
    "        (xt, (t/len(forward_samples)) * torch.ones(xt.shape[0],1)),\n",
    "        dim=1\n",
    "        )\n",
    "\n",
    "        # compute p(x(t-1)|x(t))\n",
    "        mu = mean_model(xin)\n",
    "        sigma = var_model(xin)\n",
    "        p = torch.distributions.MultivariateNormal(mu, sigma)\n",
    "\n",
    "        # 損失関数2項目：log p(x(t-1)|x(t)) / q(x(t)|q(t-1))の計算\n",
    "        loss -= torch.mean(p.log_prob(xprev))\n",
    "        loss += torch.mean(q.log_prob(xt))\n",
    "\n",
    "\n",
    "    return loss / len(forward_samples)"
   ]
  },
  {
   "cell_type": "code",
   "execution_count": 10,
   "id": "252f2cd3-92a9-49e7-adae-6b74c2507b58",
   "metadata": {
    "id": "a93d877c-3bbe-4857-8977-aab6f62a6af1"
   },
   "outputs": [],
   "source": [
    "# GPU用\n",
    "\n",
    "def compute_loss(forward_distributions, forward_samples, mean_model, var_model, device):\n",
    "    # here we compute the loss\n",
    "    # forward = q, reverse = p\n",
    "\n",
    "    # loss for x(T)\n",
    "    p = torch.distributions.MultivariateNormal(\n",
    "        torch.zeros(forward_samples[0].shape, device=device),\n",
    "        torch.tensor([[[1, 0], [0, 1]]], device=device).float()\n",
    "    )\n",
    "    # 損失関数1項目：-logp(x(T))の計算\n",
    "    loss = -p.log_prob(forward_samples[-1]).mean()\n",
    "\n",
    "    for t in range(1, len(forward_samples)):\n",
    "        xt = forward_samples[t]# x(t)\n",
    "        xt = xt.to(device)\n",
    "        xprev = forward_samples[t-1] # x(t-1)\n",
    "        xprev = xprev.to(device)\n",
    "        q = forward_distributions[t] # q(x(t)|x(t-1))\n",
    "\n",
    "        # normalize t between 0 and 1 and add it as a new column\n",
    "        # to the inputs of the mu and sigma networks\n",
    "        # tensor.Size([1000, 2]) to tensor.Size([1000, 3]) 時刻情報を連結\n",
    "        xin = torch.cat(\n",
    "        (xt, (t/len(forward_samples)) * torch.ones(xt.shape[0],1, device=device)),\n",
    "        dim=1\n",
    "        )\n",
    "        xin = xin.to(device)\n",
    "\n",
    "        # compute p(x(t-1)|x(t))\n",
    "        mu = mean_model(xin)\n",
    "        mu = mu.to(device)\n",
    "        sigma = var_model(xin)\n",
    "        sigma = sigma.to(device)\n",
    "        p = torch.distributions.MultivariateNormal(mu, sigma)\n",
    "\n",
    "        # 損失関数2項目：log p(x(t-1)|x(t)) / q(x(t)|q(t-1))の計算\n",
    "        loss -= torch.mean(p.log_prob(xprev))\n",
    "        loss += torch.mean(q.log_prob(xt))\n",
    "        loss = loss.to(device)\n",
    "\n",
    "\n",
    "    return loss / len(forward_samples)"
   ]
  },
  {
   "cell_type": "markdown",
   "id": "b81924f5-022e-4d48-9593-d05f62217437",
   "metadata": {
    "jp-MarkdownHeadingCollapsed": true
   },
   "source": [
    "## Implemention1"
   ]
  },
  {
   "cell_type": "code",
   "execution_count": 11,
   "id": "6d26ac73-dab5-4ffe-bd87-b04a26013284",
   "metadata": {
    "id": "6d26ac73-dab5-4ffe-bd87-b04a26013284"
   },
   "outputs": [],
   "source": [
    "import torch.nn as nn\n",
    "\n",
    "class VarModel(nn.Module):\n",
    "    def __init__(self):\n",
    "        super(VarModel, self).__init__()\n",
    "        self.fc1 = nn.Linear(3, 4)\n",
    "        self.relu = nn.ReLU()\n",
    "        self.fc2 = nn.Linear(4, 4)\n",
    "        self.softplus = nn.Softplus()\n",
    "\n",
    "    def forward(self, x):\n",
    "        x = self.fc1(x)\n",
    "        x = self.relu(x)\n",
    "        x = self.fc2(x)\n",
    "        x = self.softplus(x)\n",
    "\n",
    "        # 正定値対称行列に変換\n",
    "        # コレスキー分解を無理やり作る非連続変形\n",
    "        # のため勾配が逆伝播しにくく学習が安定しないかもしれない\n",
    "        L = torch.zeros(x.size(0), 2, 2)\n",
    "        L[:, 0, 0] = x[:, 0]\n",
    "        L[:, 1, 0] = x[:, 1]\n",
    "        L[:, 1, 1] = x[:, 2]\n",
    "\n",
    "        # 行列 L L^T を計算\n",
    "        covariance_matrix = torch.bmm(L, L.transpose(1, 2))\n",
    "        return covariance_matrix"
   ]
  },
  {
   "cell_type": "code",
   "execution_count": 12,
   "id": "SARR7uZpN3yF",
   "metadata": {
    "id": "SARR7uZpN3yF"
   },
   "outputs": [
    {
     "data": {
      "text/plain": [
       "'/home/hashikami/anaconda3/envs/Diff/content'"
      ]
     },
     "execution_count": 12,
     "metadata": {},
     "output_type": "execute_result"
    }
   ],
   "source": [
    "import os\n",
    "\n",
    "os.getcwd()"
   ]
  },
  {
   "cell_type": "code",
   "execution_count": 13,
   "id": "4298cbe5-2764-4ae6-ada7-60e08c8eeff3",
   "metadata": {
    "id": "4298cbe5-2764-4ae6-ada7-60e08c8eeff3"
   },
   "outputs": [],
   "source": [
    "mean_model = torch.nn.Sequential(\n",
    "    torch.nn.Linear(3,4), torch.nn.ReLU(),\n",
    "    torch.nn.Linear(4,2)\n",
    ")\n",
    "var_model = VarModel()"
   ]
  },
  {
   "cell_type": "code",
   "execution_count": null,
   "id": "YCfx-qFMNjI-",
   "metadata": {
    "colab": {
     "base_uri": "https://localhost:8080/"
    },
    "id": "YCfx-qFMNjI-",
    "outputId": "d4834ca5-58f6-49ee-cc5d-decee4333d6c"
   },
   "outputs": [
    {
     "data": {
      "text/plain": [
       "<All keys matched successfully>"
      ]
     },
     "execution_count": 12,
     "metadata": {},
     "output_type": "execute_result"
    }
   ],
   "source": [
    "# checkpoint読み込み\n",
    "\n",
    "mean_model.load_state_dict(torch.load(\"mean_model_checkpoint.pth\"))\n",
    "var_model.load_state_dict(torch.load(\"var_model_checkpoint.pth\"))"
   ]
  },
  {
   "cell_type": "markdown",
   "id": "681bb098-f97a-4c4a-8076-432820322e1a",
   "metadata": {
    "id": "681bb098-f97a-4c4a-8076-432820322e1a"
   },
   "source": [
    "いよいよ訓練しよう"
   ]
  },
  {
   "cell_type": "markdown",
   "id": "35ce052f-fac1-4937-a96e-f17d7b45515c",
   "metadata": {},
   "source": [
    "## Implementation2"
   ]
  },
  {
   "cell_type": "code",
   "execution_count": 9,
   "id": "f1e90b91-bd6a-4894-afb2-b4efb75059be",
   "metadata": {},
   "outputs": [],
   "source": [
    "import torch.nn as nn\n",
    "\n",
    "class MeanModel(nn.Module):\n",
    "    def __init__(self):\n",
    "        super(MeanModel, self).__init__()\n",
    "        self.fc1 = nn.Linear(3, 64)\n",
    "        self.bn1 = nn.BatchNorm1d(64)\n",
    "        self.relu = nn.ReLU()\n",
    "        self.fc2 = nn.Linear(64, 64)\n",
    "        self.bn2 = nn.BatchNorm1d(64)\n",
    "        self.fc3 = nn.Linear(64, 2)\n",
    "        \n",
    "        \n",
    "    def forward(self, x):\n",
    "        x = self.fc1(x)\n",
    "        x = self.bn1(x)\n",
    "        x = self.relu(x)\n",
    "        x = self.fc2(x)\n",
    "        x = self.bn2(x)\n",
    "        x = self.relu(x)\n",
    "        x = self.fc3(x)\n",
    "        return x"
   ]
  },
  {
   "cell_type": "code",
   "execution_count": 11,
   "id": "ccae1c17-fe5c-4c86-af10-becb48f1c163",
   "metadata": {},
   "outputs": [],
   "source": [
    "class VarModel(nn.Module):\n",
    "    def __init__(self):\n",
    "        super(VarModel, self).__init__()\n",
    "        self.fc1 = nn.Linear(3, 64)\n",
    "        self.bn1 = nn.BatchNorm1d(64)\n",
    "        self.relu = nn.ReLU()\n",
    "        self.fc2 = nn.Linear(64, 64)\n",
    "        self.bn2 = nn.BatchNorm1d(64)\n",
    "        self.fc3 = nn.Linear(64, 4)\n",
    "        self.softplus = nn.Softplus()\n",
    "\n",
    "    def forward(self, x):\n",
    "        x = self.fc1(x)\n",
    "        x = self.bn1(x)\n",
    "        x = self.relu(x)\n",
    "        x = self.fc2(x)\n",
    "        x = self.bn2(x)\n",
    "        x = self.relu(x)\n",
    "        x = self.fc3(x)\n",
    "        x = self.softplus(x)\n",
    "\n",
    "        \"\"\"\n",
    "        # 正定値対称行列にしなければならない\n",
    "        x = x.view(-1, 2, 2) # ここ重要 (2, 2)? (-1, 2, 2)? A. 後者\n",
    "        \"\"\"\n",
    "\n",
    "        # 正定値対称行列に変換\n",
    "        # コレスキー分解を無理やり作る非連続変形\n",
    "        # のため勾配が逆伝播しにくく学習が安定しないかもしれない\n",
    "        L = torch.zeros(x.size(0), 2, 2)\n",
    "        L[:, 0, 0] = x[:, 0]\n",
    "        L[:, 1, 0] = x[:, 1]\n",
    "        L[:, 1, 1] = x[:, 2]\n",
    "\n",
    "        # 行列 L L^T を計算\n",
    "        covariance_matrix = torch.bmm(L, L.transpose(1, 2))\n",
    "        return covariance_matrix"
   ]
  },
  {
   "cell_type": "code",
   "execution_count": 12,
   "id": "9c381537-2c01-4e38-82e2-d8413abba9d1",
   "metadata": {},
   "outputs": [],
   "source": [
    "mean_model = MeanModel()\n",
    "var_model = VarModel()"
   ]
  },
  {
   "cell_type": "markdown",
   "id": "d954fc71-aff3-49c4-b9d9-f42d6f6af722",
   "metadata": {},
   "source": [
    "## Optimize"
   ]
  },
  {
   "cell_type": "code",
   "execution_count": 13,
   "id": "9d0c2031-5248-4275-b335-b324756d12fb",
   "metadata": {
    "id": "9d0c2031-5248-4275-b335-b324756d12fb"
   },
   "outputs": [],
   "source": [
    "optim = torch.optim.AdamW(\n",
    "    itertools.chain(mean_model.parameters(), var_model.parameters()),\n",
    "    lr = 1e-2, weight_decay=1e-6,\n",
    ")"
   ]
  },
  {
   "cell_type": "code",
   "execution_count": null,
   "id": "ec3adfa8-dcab-4715-b7f1-69c06ee8809a",
   "metadata": {
    "colab": {
     "base_uri": "https://localhost:8080/",
     "height": 388,
     "referenced_widgets": [
      "8d445b79a4604166b27cd1777f4a1aa8",
      "64afe7256bc94fbca4fd3128f2b9c748",
      "0b17caaf552f439c8a101fb6f7cd3073",
      "0df0736c3461442c9191d3ce8e0d6cab",
      "a6d7f3587f494bc391077e4155139c00",
      "3c4925030e774ab894f269040b132108",
      "e8f101818b2549a6995b72ee2bcba1c4",
      "ae945f574cf841de858b9058ea2121c4",
      "4bd2f4014d6e4e2abc4e175aef3b8bed",
      "19dbd737e786483f8852af30c3c6a387",
      "5a598b7aca464b6b84ebde17bdda13d0"
     ]
    },
    "id": "ec3adfa8-dcab-4715-b7f1-69c06ee8809a",
    "outputId": "d4aabd4d-46e5-4428-efea-15fbfd359939"
   },
   "outputs": [
    {
     "data": {
      "application/vnd.jupyter.widget-view+json": {
       "model_id": "e4e4d7a9f8a44f40be7915087b21172a",
       "version_major": 2,
       "version_minor": 0
      },
      "text/plain": [
       "  0%|          | 0/1000 [00:00<?, ?it/s]"
      ]
     },
     "metadata": {},
     "output_type": "display_data"
    }
   ],
   "source": [
    "loss_histry = []\n",
    "epochs = 1000\n",
    "bar = tqdm(range(epochs))\n",
    "\n",
    "# GPU or CPU\n",
    "#device = torch.device(\"cuda\" if torch.cuda.is_available() else \"cpu\")\n",
    "device = 'cpu'\n",
    "mean_model = mean_model.to(device)\n",
    "var_model = var_model.to(device)\n",
    "\n",
    "for e in bar:\n",
    "    forward_distributions, forward_samples = do_diffusion(dataset)\n",
    "\n",
    "    forward_samples = [sample.to(device) for sample in forward_samples]\n",
    "    optim.zero_grad()\n",
    "    loss = compute_loss(\n",
    "    forward_distributions, forward_samples, mean_model, var_model)\n",
    "    loss.backward()\n",
    "    optim.step()\n",
    "\n",
    "    bar.set_description(f'Loss: {loss.item():4f}')\n",
    "    loss_histry.append(loss.item())"
   ]
  },
  {
   "cell_type": "code",
   "execution_count": 14,
   "id": "4Jup6-5_CSGU",
   "metadata": {
    "id": "4Jup6-5_CSGU"
   },
   "outputs": [],
   "source": [
    "# checkpointの保存関数\n",
    "def save_checkpoint(mean_model, var_model, optimizer, epoch, loss, filename='checkpoint.pth'):\n",
    "  checkpoint = {\n",
    "      'mean_model_state_dict': mean_model.state_dict(),\n",
    "      'var_model_state_dict': var_model.state_dict(),\n",
    "      'optimizer_state_dict': optimizer.state_dict(),\n",
    "      'epoch': epoch,\n",
    "      'loss': loss\n",
    "  }\n",
    "  torch.save(checkpoint, filename)\n",
    "\n",
    "def load_checkpoint(mean_model, var_model, optimizer, filename='checkpoint.pth'):\n",
    "  checkpoint = torch.load(filename)\n",
    "  mean_model.load_state_dict(checkpoint['mean_model_state_dict'])\n",
    "  var_model.load_state_dict(checkpoint['var_model_state_dict'])\n",
    "  optimizer.load_state_dict(checkpoint['optimizer_state_dict'])\n",
    "  epoch = checkpoint['epoch']\n",
    "  loss = checkpoint['loss']\n",
    "  return mean_model, var_model, optimizer, epoch, loss"
   ]
  },
  {
   "cell_type": "code",
   "execution_count": 18,
   "id": "a75ec782-3ac1-40be-bbdf-aa31470127ed",
   "metadata": {},
   "outputs": [],
   "source": [
    "mean_model = MeanModel()\n",
    "var_model = VarModel()\n",
    "mean_model, var_model, optimizer, epoch, loss = load_checkpoint(mean_model, var_model, optim, filename=\"checkpoint/checkpoint2.pth\")\n",
    "mean_model = mean_model.to(device)\n",
    "var_model = var_model.to(device)"
   ]
  },
  {
   "cell_type": "code",
   "execution_count": 19,
   "id": "fbFQRLvfBrU3",
   "metadata": {
    "colab": {
     "base_uri": "https://localhost:8080/",
     "height": 49,
     "referenced_widgets": [
      "15d8b24f9a2d4821aa8f2c199fab0fb2",
      "b6e4b8fc77034d9cb8aabd0966b32884",
      "183de9b471c94f90862fa15919abf96d",
      "a2f7c6e2e0704a9799bcb343d2483665",
      "8926be9e1e6148659f9939dd42b5dd89",
      "ef364796c95745d18cf4f66cdbd28f01",
      "7d1565ce332046ffa5632d0531f09e68",
      "bb1868a697f743baba27c06ad1d8555b",
      "39ca3357316d4c67ab793cc493eedc4c",
      "a2ab42ee74484966b2950adde525f26f",
      "ed5ececea82c4ebebd63c5ba334adccd"
     ]
    },
    "id": "fbFQRLvfBrU3",
    "outputId": "e104f696-8210-465c-ffc3-9be11210ab02"
   },
   "outputs": [
    {
     "data": {
      "application/vnd.jupyter.widget-view+json": {
       "model_id": "432b00a7505b4fd08c3e2e809998ec0d",
       "version_major": 2,
       "version_minor": 0
      },
      "text/plain": [
       "  0%|          | 0/500 [00:00<?, ?it/s]"
      ]
     },
     "metadata": {},
     "output_type": "display_data"
    }
   ],
   "source": [
    "# checkpoint作成用 CPU\n",
    "loss_histry = []\n",
    "epochs = 3500\n",
    "start_epoch = 0\n",
    "\n",
    "# checkpointからスタート\n",
    "mean_model, var_model, optim, start_epoch, loss = load_checkpoint(mean_model, var_model, optim, filename='checkpoint/checkpoint.pth')\n",
    "\n",
    "\n",
    "device = 'cpu'\n",
    "mean_model = mean_model.to(device)\n",
    "var_model = var_model.to(device)\n",
    "\n",
    "bar = tqdm(range(start_epoch, epochs))\n",
    "save_interval = 10\n",
    "\n",
    "\n",
    "for e in bar:\n",
    "    forward_distributions, forward_samples = do_diffusion(dataset)\n",
    "\n",
    "    forward_samples = [sample.to(device) for sample in forward_samples]\n",
    "    optim.zero_grad()\n",
    "    loss = compute_loss(\n",
    "    forward_distributions, forward_samples, mean_model, var_model)\n",
    "    loss.backward()\n",
    "    optim.step()\n",
    "\n",
    "    bar.set_description(f'Loss: {loss.item():4f}')\n",
    "    loss_histry.append(loss.item())\n",
    "\n",
    "    if (e + 1) % save_interval == 0:\n",
    "      save_checkpoint(mean_model, var_model, optim, e + 1, loss.item(), filename=\"checkpoint/checkpoint.pth\")"
   ]
  },
  {
   "cell_type": "code",
   "execution_count": 24,
   "id": "d01a01b6",
   "metadata": {
    "colab": {
     "base_uri": "https://localhost:8080/",
     "height": 49,
     "referenced_widgets": [
      "15d8b24f9a2d4821aa8f2c199fab0fb2",
      "b6e4b8fc77034d9cb8aabd0966b32884",
      "183de9b471c94f90862fa15919abf96d",
      "a2f7c6e2e0704a9799bcb343d2483665",
      "8926be9e1e6148659f9939dd42b5dd89",
      "ef364796c95745d18cf4f66cdbd28f01",
      "7d1565ce332046ffa5632d0531f09e68",
      "bb1868a697f743baba27c06ad1d8555b",
      "39ca3357316d4c67ab793cc493eedc4c",
      "a2ab42ee74484966b2950adde525f26f",
      "ed5ececea82c4ebebd63c5ba334adccd"
     ]
    },
    "id": "fbFQRLvfBrU3",
    "outputId": "e104f696-8210-465c-ffc3-9be11210ab02"
   },
   "outputs": [
    {
     "data": {
      "application/vnd.jupyter.widget-view+json": {
       "model_id": "256dce2d55684800b03a304bf9bd5bc3",
       "version_major": 2,
       "version_minor": 0
      },
      "text/plain": [
       "  0%|          | 0/3500 [00:00<?, ?it/s]"
      ]
     },
     "metadata": {},
     "output_type": "display_data"
    }
   ],
   "source": [
    "# checkpoint作成用 GPU\n",
    "loss_histry = []\n",
    "epochs = 3500\n",
    "start_epoch = 0\n",
    "\n",
    "# checkpointからスタート\n",
    "#mean_model, var_model, optim, start_epoch, loss = load_checkpoint(mean_model, var_model, optim, filename='checkpoint/checkpoint.pth')\n",
    "\n",
    "device = torch.device(\"cuda\" if torch.cuda.is_available() else \"cpu\")\n",
    "\n",
    "mean_model = mean_model.to(device)\n",
    "var_model = var_model.to(device)\n",
    "\n",
    "bar = tqdm(range(start_epoch, epochs))\n",
    "save_interval = 10\n",
    "\n",
    "\n",
    "for e in bar:\n",
    "    forward_distributions, forward_samples = do_diffusion(dataset)\n",
    "\n",
    "    forward_samples = [sample.to(device) for sample in forward_samples]\n",
    "    optim.zero_grad()\n",
    "    loss = compute_loss(\n",
    "    forward_distributions, forward_samples, mean_model, var_model, device=device)\n",
    "    loss.backward()\n",
    "    optim.step()\n",
    "\n",
    "    bar.set_description(f'Loss: {loss.item():4f}')\n",
    "    loss_histry.append(loss.item())\n",
    "\n",
    "    if (e + 1) % save_interval == 0:\n",
    "      save_checkpoint(mean_model, var_model, optim, e + 1, loss.item(), filename=\"checkpoint/checkpoint2.pth\")"
   ]
  },
  {
   "cell_type": "code",
   "execution_count": 25,
   "id": "d577fc1a-d302-4553-902d-fa721a3bc5d8",
   "metadata": {
    "colab": {
     "base_uri": "https://localhost:8080/",
     "height": 449
    },
    "id": "d577fc1a-d302-4553-902d-fa721a3bc5d8",
    "outputId": "109e9284-4fe4-4f5a-94ca-c4af42354676"
   },
   "outputs": [
    {
     "data": {
      "image/png": "[encoded data removed]",
      "text/plain": [
       "<Figure size 640x480 with 1 Axes>"
      ]
     },
     "metadata": {},
     "output_type": "display_data"
    }
   ],
   "source": [
    "plt.plot(loss_histry)\n",
    "plt.yscale('log')\n",
    "plt.ylabel('Loss')\n",
    "plt.xlabel('Training step')\n",
    "plt.show()"
   ]
  },
  {
   "cell_type": "markdown",
   "id": "ba98a305-271b-403d-b61a-2fa769817af1",
   "metadata": {
    "id": "ba98a305-271b-403d-b61a-2fa769817af1"
   },
   "source": [
    "# Sample generation"
   ]
  },
  {
   "cell_type": "markdown",
   "id": "4d853360-9d74-4409-8404-494dad3edaa5",
   "metadata": {
    "id": "4d853360-9d74-4409-8404-494dad3edaa5"
   },
   "source": [
    "最終的に、訓練されたニューラルネットワークを使用して、データ分布から新しいサンプルを生成できます。\n",
    "このプロセスは、以前の拡散プロセスと非常に似ていますが、ここでは通常分布から始めて、予測された平均と分散を使用して徐々に「ノイズ」を取り除く点が異なります。"
   ]
  },
  {
   "cell_type": "code",
   "execution_count": 19,
   "id": "5467e3d4-2d2e-4bcf-b263-1adcc01824d9",
   "metadata": {
    "id": "5467e3d4-2d2e-4bcf-b263-1adcc01824d9"
   },
   "outputs": [],
   "source": [
    "# CPU\n",
    "\n",
    "def sample_reverse(mean_model, var_model, count, steps=TIME_STEPS):\n",
    "    \"\"\"\n",
    "    count: サンプル数\n",
    "    \"\"\"\n",
    "    p = torch.distributions.MultivariateNormal(torch.zeros(count, 2,), torch.eye(2).repeat(count, 1, 1))\n",
    "    xt = p.sample()\n",
    "    sample_histry = [xt]\n",
    "    for t in range(steps, 0, -1):\n",
    "        #xin = torch.cat((xt, t * torch.ones(xt.shape) / steps), dim=1)\n",
    "        xin = torch.cat((xt, t * torch.ones(xt.shape[0], 1) / steps), dim=1)\n",
    "        p = torch.distributions.MultivariateNormal(\n",
    "        mean_model(xin), var_model(xin)\n",
    "        )\n",
    "\n",
    "        xt = p.sample()\n",
    "        sample_histry.append(xt)\n",
    "\n",
    "    return sample_histry"
   ]
  },
  {
   "cell_type": "code",
   "execution_count": 20,
   "id": "505a7197",
   "metadata": {
    "id": "5467e3d4-2d2e-4bcf-b263-1adcc01824d9"
   },
   "outputs": [],
   "source": [
    "# GPU\n",
    "\n",
    "def sample_reverse(mean_model, var_model, count, steps=TIME_STEPS, device=device):\n",
    "    \"\"\"\n",
    "    count: サンプル数\n",
    "    \"\"\"\n",
    "    p = torch.distributions.MultivariateNormal(torch.zeros(count, 2, device=device), torch.eye(2, device=device).repeat(count, 1, 1))\n",
    "    xt = p.sample()\n",
    "    xt = xt.to(device)\n",
    "    sample_histry = [xt]\n",
    "    for t in range(steps, 0, -1):\n",
    "        #xin = torch.cat((xt, t * torch.ones(xt.shape) / steps), dim=1)\n",
    "        xin = torch.cat((xt, t * torch.ones(xt.shape[0], 1, device=device) / steps), dim=1)\n",
    "        xin = xin.to(device)\n",
    "        p = torch.distributions.MultivariateNormal(\n",
    "        mean_model(xin).to(device), var_model(xin).to(device)\n",
    "        )\n",
    "\n",
    "        xt = p.sample()\n",
    "        xt = xt.to(device)\n",
    "        sample_histry.append(xt)\n",
    "\n",
    "    return sample_histry"
   ]
  },
  {
   "cell_type": "code",
   "execution_count": 21,
   "id": "d0696175",
   "metadata": {
    "colab": {
     "base_uri": "https://localhost:8080/",
     "height": 634
    },
    "id": "6ee63393-9ae0-48f9-92e4-58917bbd792b",
    "outputId": "6ff83180-a5a7-4cae-db4a-a96c1d2de847"
   },
   "outputs": [],
   "source": [
    "reverse_samples = sample_reverse(mean_model, var_model, 1000, steps=TIME_STEPS)"
   ]
  },
  {
   "cell_type": "code",
   "execution_count": 22,
   "id": "a500aa1a-a2de-4434-9f53-294507befe24",
   "metadata": {},
   "outputs": [],
   "source": [
    "# for GPU\n",
    "reverse_samples = [sample.cpu() for sample in reverse_samples]"
   ]
  },
  {
   "cell_type": "code",
   "execution_count": 26,
   "id": "c4c11e69-26b8-4629-8988-ee6313459857",
   "metadata": {
    "colab": {
     "base_uri": "https://localhost:8080/",
     "height": 451
    },
    "id": "c4c11e69-26b8-4629-8988-ee6313459857",
    "outputId": "61ffa535-8e56-45b8-d109-4115b1a8ce62"
   },
   "outputs": [
    {
     "data": {
      "text/plain": [
       "<matplotlib.collections.PathCollection at 0x149862a60410>"
      ]
     },
     "execution_count": 26,
     "metadata": {},
     "output_type": "execute_result"
    },
    {
     "data": {
      "image/png": "[encoded data removed]",
      "text/plain": [
       "<Figure size 640x480 with 1 Axes>"
      ]
     },
     "metadata": {},
     "output_type": "display_data"
    }
   ],
   "source": [
    "\n",
    "plt.scatter(x=reverse_samples[300][:,0], y=reverse_samples[300][:,1], c=\"blue\")"
   ]
  },
  {
   "cell_type": "code",
   "execution_count": 45,
   "id": "349596fe-4b1e-43ba-9914-43a1d9285aa4",
   "metadata": {
    "colab": {
     "base_uri": "https://localhost:8080/",
     "height": 435
    },
    "id": "349596fe-4b1e-43ba-9914-43a1d9285aa4",
    "outputId": "5f97168c-da28-49ed-8ec9-69a7975347a5"
   },
   "outputs": [
    {
     "data": {
      "image/png": "[encoded data removed]",
      "text/plain": [
       "<Figure size 640x480 with 1 Axes>"
      ]
     },
     "metadata": {},
     "output_type": "display_data"
    }
   ],
   "source": [
    "import numpy as np\n",
    "import matplotlib.pyplot as plt\n",
    "import matplotlib.animation as animation\n",
    "from scipy.stats import norm\n",
    "\n",
    "# frame数\n",
    "num_frames = 300\n",
    "\n",
    "# 図と軸の作成\n",
    "fig, ax = plt.subplots()\n",
    "scat = ax.scatter(x=reverse_samples[0][:,0], y=reverse_samples[0][:,1], c=\"blue\")\n",
    "\n",
    "# 軸の範囲を設定\n",
    "ax.set_xlim(-10, 10)\n",
    "ax.set_ylim(-10, 10)\n",
    "\n",
    "# アニメーションの更新関数\n",
    "def update(frame):\n",
    "    scat.set_offsets(np.c_[reverse_samples[frame], reverse_samples[frame]])\n",
    "    return scat,\n",
    "\n",
    "# アニメーションの作成\n",
    "ani = animation.FuncAnimation(fig, update, frames=num_frames, blit=True)\n",
    "\n",
    "# アニメーションの表示\n",
    "plt.show()\n",
    "\n",
    "# アニメーションをGIFとして保存（オプション）\n",
    "ani.save('distribution_animation1.gif', writer='pillow')\n"
   ]
  },
  {
   "cell_type": "code",
   "execution_count": null,
   "id": "758f95bb-66e0-445f-a80b-0d673790291b",
   "metadata": {},
   "outputs": [],
   "source": []
  }
 ],
 "metadata": {
  "accelerator": "GPU",
  "colab": {
   "gpuType": "T4",
   "provenance": []
  },
  "kernelspec": {
   "display_name": "Python 3 (ipykernel)",
   "language": "python",
   "name": "python3"
  },
  "language_info": {
   "codemirror_mode": {
    "name": "ipython",
    "version": 3
   },
   "file_extension": ".py",
   "mimetype": "text/x-python",
   "name": "python",
   "nbconvert_exporter": "python",
   "pygments_lexer": "ipython3",
   "version": "3.12.2"
  },
  "widgets": {
   "application/vnd.jupyter.widget-state+json": {
    "0b17caaf552f439c8a101fb6f7cd3073": {
     "model_module": "@jupyter-widgets/controls",
     "model_module_version": "1.5.0",
     "model_name": "FloatProgressModel",
     "state": {
      "_dom_classes": [],
      "_model_module": "@jupyter-widgets/controls",
      "_model_module_version": "1.5.0",
      "_model_name": "FloatProgressModel",
      "_view_count": null,
      "_view_module": "@jupyter-widgets/controls",
      "_view_module_version": "1.5.0",
      "_view_name": "ProgressView",
      "bar_style": "danger",
      "description": "",
      "description_tooltip": null,
      "layout": "IPY_MODEL_ae945f574cf841de858b9058ea2121c4",
      "max": 1000,
      "min": 0,
      "orientation": "horizontal",
      "style": "IPY_MODEL_4bd2f4014d6e4e2abc4e175aef3b8bed",
      "value": 258
     }
    },
    "0df0736c3461442c9191d3ce8e0d6cab": {
     "model_module": "@jupyter-widgets/controls",
     "model_module_version": "1.5.0",
     "model_name": "HTMLModel",
     "state": {
      "_dom_classes": [],
      "_model_module": "@jupyter-widgets/controls",
      "_model_module_version": "1.5.0",
      "_model_name": "HTMLModel",
      "_view_count": null,
      "_view_module": "@jupyter-widgets/controls",
      "_view_module_version": "1.5.0",
      "_view_name": "HTMLView",
      "description": "",
      "description_tooltip": null,
      "layout": "IPY_MODEL_19dbd737e786483f8852af30c3c6a387",
      "placeholder": "​",
      "style": "IPY_MODEL_5a598b7aca464b6b84ebde17bdda13d0",
      "value": " 258/1000 [15:33&lt;44:36,  3.61s/it]"
     }
    },
    "15d8b24f9a2d4821aa8f2c199fab0fb2": {
     "model_module": "@jupyter-widgets/controls",
     "model_module_version": "1.5.0",
     "model_name": "HBoxModel",
     "state": {
      "_dom_classes": [],
      "_model_module": "@jupyter-widgets/controls",
      "_model_module_version": "1.5.0",
      "_model_name": "HBoxModel",
      "_view_count": null,
      "_view_module": "@jupyter-widgets/controls",
      "_view_module_version": "1.5.0",
      "_view_name": "HBoxView",
      "box_style": "",
      "children": [
       "IPY_MODEL_b6e4b8fc77034d9cb8aabd0966b32884",
       "IPY_MODEL_183de9b471c94f90862fa15919abf96d",
       "IPY_MODEL_a2f7c6e2e0704a9799bcb343d2483665"
      ],
      "layout": "IPY_MODEL_8926be9e1e6148659f9939dd42b5dd89"
     }
    },
    "183de9b471c94f90862fa15919abf96d": {
     "model_module": "@jupyter-widgets/controls",
     "model_module_version": "1.5.0",
     "model_name": "FloatProgressModel",
     "state": {
      "_dom_classes": [],
      "_model_module": "@jupyter-widgets/controls",
      "_model_module_version": "1.5.0",
      "_model_name": "FloatProgressModel",
      "_view_count": null,
      "_view_module": "@jupyter-widgets/controls",
      "_view_module_version": "1.5.0",
      "_view_name": "ProgressView",
      "bar_style": "success",
      "description": "",
      "description_tooltip": null,
      "layout": "IPY_MODEL_bb1868a697f743baba27c06ad1d8555b",
      "max": 1800,
      "min": 0,
      "orientation": "horizontal",
      "style": "IPY_MODEL_39ca3357316d4c67ab793cc493eedc4c",
      "value": 1800
     }
    },
    "19dbd737e786483f8852af30c3c6a387": {
     "model_module": "@jupyter-widgets/base",
     "model_module_version": "1.2.0",
     "model_name": "LayoutModel",
     "state": {
      "_model_module": "@jupyter-widgets/base",
      "_model_module_version": "1.2.0",
      "_model_name": "LayoutModel",
      "_view_count": null,
      "_view_module": "@jupyter-widgets/base",
      "_view_module_version": "1.2.0",
      "_view_name": "LayoutView",
      "align_content": null,
      "align_items": null,
      "align_self": null,
      "border": null,
      "bottom": null,
      "display": null,
      "flex": null,
      "flex_flow": null,
      "grid_area": null,
      "grid_auto_columns": null,
      "grid_auto_flow": null,
      "grid_auto_rows": null,
      "grid_column": null,
      "grid_gap": null,
      "grid_row": null,
      "grid_template_areas": null,
      "grid_template_columns": null,
      "grid_template_rows": null,
      "height": null,
      "justify_content": null,
      "justify_items": null,
      "left": null,
      "margin": null,
      "max_height": null,
      "max_width": null,
      "min_height": null,
      "min_width": null,
      "object_fit": null,
      "object_position": null,
      "order": null,
      "overflow": null,
      "overflow_x": null,
      "overflow_y": null,
      "padding": null,
      "right": null,
      "top": null,
      "visibility": null,
      "width": null
     }
    },
    "39ca3357316d4c67ab793cc493eedc4c": {
     "model_module": "@jupyter-widgets/controls",
     "model_module_version": "1.5.0",
     "model_name": "ProgressStyleModel",
     "state": {
      "_model_module": "@jupyter-widgets/controls",
      "_model_module_version": "1.5.0",
      "_model_name": "ProgressStyleModel",
      "_view_count": null,
      "_view_module": "@jupyter-widgets/base",
      "_view_module_version": "1.2.0",
      "_view_name": "StyleView",
      "bar_color": null,
      "description_width": ""
     }
    },
    "3c4925030e774ab894f269040b132108": {
     "model_module": "@jupyter-widgets/base",
     "model_module_version": "1.2.0",
     "model_name": "LayoutModel",
     "state": {
      "_model_module": "@jupyter-widgets/base",
      "_model_module_version": "1.2.0",
      "_model_name": "LayoutModel",
      "_view_count": null,
      "_view_module": "@jupyter-widgets/base",
      "_view_module_version": "1.2.0",
      "_view_name": "LayoutView",
      "align_content": null,
      "align_items": null,
      "align_self": null,
      "border": null,
      "bottom": null,
      "display": null,
      "flex": null,
      "flex_flow": null,
      "grid_area": null,
      "grid_auto_columns": null,
      "grid_auto_flow": null,
      "grid_auto_rows": null,
      "grid_column": null,
      "grid_gap": null,
      "grid_row": null,
      "grid_template_areas": null,
      "grid_template_columns": null,
      "grid_template_rows": null,
      "height": null,
      "justify_content": null,
      "justify_items": null,
      "left": null,
      "margin": null,
      "max_height": null,
      "max_width": null,
      "min_height": null,
      "min_width": null,
      "object_fit": null,
      "object_position": null,
      "order": null,
      "overflow": null,
      "overflow_x": null,
      "overflow_y": null,
      "padding": null,
      "right": null,
      "top": null,
      "visibility": null,
      "width": null
     }
    },
    "4bd2f4014d6e4e2abc4e175aef3b8bed": {
     "model_module": "@jupyter-widgets/controls",
     "model_module_version": "1.5.0",
     "model_name": "ProgressStyleModel",
     "state": {
      "_model_module": "@jupyter-widgets/controls",
      "_model_module_version": "1.5.0",
      "_model_name": "ProgressStyleModel",
      "_view_count": null,
      "_view_module": "@jupyter-widgets/base",
      "_view_module_version": "1.2.0",
      "_view_name": "StyleView",
      "bar_color": null,
      "description_width": ""
     }
    },
    "5a598b7aca464b6b84ebde17bdda13d0": {
     "model_module": "@jupyter-widgets/controls",
     "model_module_version": "1.5.0",
     "model_name": "DescriptionStyleModel",
     "state": {
      "_model_module": "@jupyter-widgets/controls",
      "_model_module_version": "1.5.0",
      "_model_name": "DescriptionStyleModel",
      "_view_count": null,
      "_view_module": "@jupyter-widgets/base",
      "_view_module_version": "1.2.0",
      "_view_name": "StyleView",
      "description_width": ""
     }
    },
    "64afe7256bc94fbca4fd3128f2b9c748": {
     "model_module": "@jupyter-widgets/controls",
     "model_module_version": "1.5.0",
     "model_name": "HTMLModel",
     "state": {
      "_dom_classes": [],
      "_model_module": "@jupyter-widgets/controls",
      "_model_module_version": "1.5.0",
      "_model_name": "HTMLModel",
      "_view_count": null,
      "_view_module": "@jupyter-widgets/controls",
      "_view_module_version": "1.5.0",
      "_view_name": "HTMLView",
      "description": "",
      "description_tooltip": null,
      "layout": "IPY_MODEL_3c4925030e774ab894f269040b132108",
      "placeholder": "​",
      "style": "IPY_MODEL_e8f101818b2549a6995b72ee2bcba1c4",
      "value": "Loss: 0.020190:  26%"
     }
    },
    "7d1565ce332046ffa5632d0531f09e68": {
     "model_module": "@jupyter-widgets/controls",
     "model_module_version": "1.5.0",
     "model_name": "DescriptionStyleModel",
     "state": {
      "_model_module": "@jupyter-widgets/controls",
      "_model_module_version": "1.5.0",
      "_model_name": "DescriptionStyleModel",
      "_view_count": null,
      "_view_module": "@jupyter-widgets/base",
      "_view_module_version": "1.2.0",
      "_view_name": "StyleView",
      "description_width": ""
     }
    },
    "8926be9e1e6148659f9939dd42b5dd89": {
     "model_module": "@jupyter-widgets/base",
     "model_module_version": "1.2.0",
     "model_name": "LayoutModel",
     "state": {
      "_model_module": "@jupyter-widgets/base",
      "_model_module_version": "1.2.0",
      "_model_name": "LayoutModel",
      "_view_count": null,
      "_view_module": "@jupyter-widgets/base",
      "_view_module_version": "1.2.0",
      "_view_name": "LayoutView",
      "align_content": null,
      "align_items": null,
      "align_self": null,
      "border": null,
      "bottom": null,
      "display": null,
      "flex": null,
      "flex_flow": null,
      "grid_area": null,
      "grid_auto_columns": null,
      "grid_auto_flow": null,
      "grid_auto_rows": null,
      "grid_column": null,
      "grid_gap": null,
      "grid_row": null,
      "grid_template_areas": null,
      "grid_template_columns": null,
      "grid_template_rows": null,
      "height": null,
      "justify_content": null,
      "justify_items": null,
      "left": null,
      "margin": null,
      "max_height": null,
      "max_width": null,
      "min_height": null,
      "min_width": null,
      "object_fit": null,
      "object_position": null,
      "order": null,
      "overflow": null,
      "overflow_x": null,
      "overflow_y": null,
      "padding": null,
      "right": null,
      "top": null,
      "visibility": null,
      "width": null
     }
    },
    "8d445b79a4604166b27cd1777f4a1aa8": {
     "model_module": "@jupyter-widgets/controls",
     "model_module_version": "1.5.0",
     "model_name": "HBoxModel",
     "state": {
      "_dom_classes": [],
      "_model_module": "@jupyter-widgets/controls",
      "_model_module_version": "1.5.0",
      "_model_name": "HBoxModel",
      "_view_count": null,
      "_view_module": "@jupyter-widgets/controls",
      "_view_module_version": "1.5.0",
      "_view_name": "HBoxView",
      "box_style": "",
      "children": [
       "IPY_MODEL_64afe7256bc94fbca4fd3128f2b9c748",
       "IPY_MODEL_0b17caaf552f439c8a101fb6f7cd3073",
       "IPY_MODEL_0df0736c3461442c9191d3ce8e0d6cab"
      ],
      "layout": "IPY_MODEL_a6d7f3587f494bc391077e4155139c00"
     }
    },
    "a2ab42ee74484966b2950adde525f26f": {
     "model_module": "@jupyter-widgets/base",
     "model_module_version": "1.2.0",
     "model_name": "LayoutModel",
     "state": {
      "_model_module": "@jupyter-widgets/base",
      "_model_module_version": "1.2.0",
      "_model_name": "LayoutModel",
      "_view_count": null,
      "_view_module": "@jupyter-widgets/base",
      "_view_module_version": "1.2.0",
      "_view_name": "LayoutView",
      "align_content": null,
      "align_items": null,
      "align_self": null,
      "border": null,
      "bottom": null,
      "display": null,
      "flex": null,
      "flex_flow": null,
      "grid_area": null,
      "grid_auto_columns": null,
      "grid_auto_flow": null,
      "grid_auto_rows": null,
      "grid_column": null,
      "grid_gap": null,
      "grid_row": null,
      "grid_template_areas": null,
      "grid_template_columns": null,
      "grid_template_rows": null,
      "height": null,
      "justify_content": null,
      "justify_items": null,
      "left": null,
      "margin": null,
      "max_height": null,
      "max_width": null,
      "min_height": null,
      "min_width": null,
      "object_fit": null,
      "object_position": null,
      "order": null,
      "overflow": null,
      "overflow_x": null,
      "overflow_y": null,
      "padding": null,
      "right": null,
      "top": null,
      "visibility": null,
      "width": null
     }
    },
    "a2f7c6e2e0704a9799bcb343d2483665": {
     "model_module": "@jupyter-widgets/controls",
     "model_module_version": "1.5.0",
     "model_name": "HTMLModel",
     "state": {
      "_dom_classes": [],
      "_model_module": "@jupyter-widgets/controls",
      "_model_module_version": "1.5.0",
      "_model_name": "HTMLModel",
      "_view_count": null,
      "_view_module": "@jupyter-widgets/controls",
      "_view_module_version": "1.5.0",
      "_view_name": "HTMLView",
      "description": "",
      "description_tooltip": null,
      "layout": "IPY_MODEL_a2ab42ee74484966b2950adde525f26f",
      "placeholder": "​",
      "style": "IPY_MODEL_ed5ececea82c4ebebd63c5ba334adccd",
      "value": " 1800/1800 [1:44:43&lt;00:00,  3.45s/it]"
     }
    },
    "a6d7f3587f494bc391077e4155139c00": {
     "model_module": "@jupyter-widgets/base",
     "model_module_version": "1.2.0",
     "model_name": "LayoutModel",
     "state": {
      "_model_module": "@jupyter-widgets/base",
      "_model_module_version": "1.2.0",
      "_model_name": "LayoutModel",
      "_view_count": null,
      "_view_module": "@jupyter-widgets/base",
      "_view_module_version": "1.2.0",
      "_view_name": "LayoutView",
      "align_content": null,
      "align_items": null,
      "align_self": null,
      "border": null,
      "bottom": null,
      "display": null,
      "flex": null,
      "flex_flow": null,
      "grid_area": null,
      "grid_auto_columns": null,
      "grid_auto_flow": null,
      "grid_auto_rows": null,
      "grid_column": null,
      "grid_gap": null,
      "grid_row": null,
      "grid_template_areas": null,
      "grid_template_columns": null,
      "grid_template_rows": null,
      "height": null,
      "justify_content": null,
      "justify_items": null,
      "left": null,
      "margin": null,
      "max_height": null,
      "max_width": null,
      "min_height": null,
      "min_width": null,
      "object_fit": null,
      "object_position": null,
      "order": null,
      "overflow": null,
      "overflow_x": null,
      "overflow_y": null,
      "padding": null,
      "right": null,
      "top": null,
      "visibility": null,
      "width": null
     }
    },
    "ae945f574cf841de858b9058ea2121c4": {
     "model_module": "@jupyter-widgets/base",
     "model_module_version": "1.2.0",
     "model_name": "LayoutModel",
     "state": {
      "_model_module": "@jupyter-widgets/base",
      "_model_module_version": "1.2.0",
      "_model_name": "LayoutModel",
      "_view_count": null,
      "_view_module": "@jupyter-widgets/base",
      "_view_module_version": "1.2.0",
      "_view_name": "LayoutView",
      "align_content": null,
      "align_items": null,
      "align_self": null,
      "border": null,
      "bottom": null,
      "display": null,
      "flex": null,
      "flex_flow": null,
      "grid_area": null,
      "grid_auto_columns": null,
      "grid_auto_flow": null,
      "grid_auto_rows": null,
      "grid_column": null,
      "grid_gap": null,
      "grid_row": null,
      "grid_template_areas": null,
      "grid_template_columns": null,
      "grid_template_rows": null,
      "height": null,
      "justify_content": null,
      "justify_items": null,
      "left": null,
      "margin": null,
      "max_height": null,
      "max_width": null,
      "min_height": null,
      "min_width": null,
      "object_fit": null,
      "object_position": null,
      "order": null,
      "overflow": null,
      "overflow_x": null,
      "overflow_y": null,
      "padding": null,
      "right": null,
      "top": null,
      "visibility": null,
      "width": null
     }
    },
    "b6e4b8fc77034d9cb8aabd0966b32884": {
     "model_module": "@jupyter-widgets/controls",
     "model_module_version": "1.5.0",
     "model_name": "HTMLModel",
     "state": {
      "_dom_classes": [],
      "_model_module": "@jupyter-widgets/controls",
      "_model_module_version": "1.5.0",
      "_model_name": "HTMLModel",
      "_view_count": null,
      "_view_module": "@jupyter-widgets/controls",
      "_view_module_version": "1.5.0",
      "_view_name": "HTMLView",
      "description": "",
      "description_tooltip": null,
      "layout": "IPY_MODEL_ef364796c95745d18cf4f66cdbd28f01",
      "placeholder": "​",
      "style": "IPY_MODEL_7d1565ce332046ffa5632d0531f09e68",
      "value": "Loss: 1.361081: 100%"
     }
    },
    "bb1868a697f743baba27c06ad1d8555b": {
     "model_module": "@jupyter-widgets/base",
     "model_module_version": "1.2.0",
     "model_name": "LayoutModel",
     "state": {
      "_model_module": "@jupyter-widgets/base",
      "_model_module_version": "1.2.0",
      "_model_name": "LayoutModel",
      "_view_count": null,
      "_view_module": "@jupyter-widgets/base",
      "_view_module_version": "1.2.0",
      "_view_name": "LayoutView",
      "align_content": null,
      "align_items": null,
      "align_self": null,
      "border": null,
      "bottom": null,
      "display": null,
      "flex": null,
      "flex_flow": null,
      "grid_area": null,
      "grid_auto_columns": null,
      "grid_auto_flow": null,
      "grid_auto_rows": null,
      "grid_column": null,
      "grid_gap": null,
      "grid_row": null,
      "grid_template_areas": null,
      "grid_template_columns": null,
      "grid_template_rows": null,
      "height": null,
      "justify_content": null,
      "justify_items": null,
      "left": null,
      "margin": null,
      "max_height": null,
      "max_width": null,
      "min_height": null,
      "min_width": null,
      "object_fit": null,
      "object_position": null,
      "order": null,
      "overflow": null,
      "overflow_x": null,
      "overflow_y": null,
      "padding": null,
      "right": null,
      "top": null,
      "visibility": null,
      "width": null
     }
    },
    "e8f101818b2549a6995b72ee2bcba1c4": {
     "model_module": "@jupyter-widgets/controls",
     "model_module_version": "1.5.0",
     "model_name": "DescriptionStyleModel",
     "state": {
      "_model_module": "@jupyter-widgets/controls",
      "_model_module_version": "1.5.0",
      "_model_name": "DescriptionStyleModel",
      "_view_count": null,
      "_view_module": "@jupyter-widgets/base",
      "_view_module_version": "1.2.0",
      "_view_name": "StyleView",
      "description_width": ""
     }
    },
    "ed5ececea82c4ebebd63c5ba334adccd": {
     "model_module": "@jupyter-widgets/controls",
     "model_module_version": "1.5.0",
     "model_name": "DescriptionStyleModel",
     "state": {
      "_model_module": "@jupyter-widgets/controls",
      "_model_module_version": "1.5.0",
      "_model_name": "DescriptionStyleModel",
      "_view_count": null,
      "_view_module": "@jupyter-widgets/base",
      "_view_module_version": "1.2.0",
      "_view_name": "StyleView",
      "description_width": ""
     }
    },
    "ef364796c95745d18cf4f66cdbd28f01": {
     "model_module": "@jupyter-widgets/base",
     "model_module_version": "1.2.0",
     "model_name": "LayoutModel",
     "state": {
      "_model_module": "@jupyter-widgets/base",
      "_model_module_version": "1.2.0",
      "_model_name": "LayoutModel",
      "_view_count": null,
      "_view_module": "@jupyter-widgets/base",
      "_view_module_version": "1.2.0",
      "_view_name": "LayoutView",
      "align_content": null,
      "align_items": null,
      "align_self": null,
      "border": null,
      "bottom": null,
      "display": null,
      "flex": null,
      "flex_flow": null,
      "grid_area": null,
      "grid_auto_columns": null,
      "grid_auto_flow": null,
      "grid_auto_rows": null,
      "grid_column": null,
      "grid_gap": null,
      "grid_row": null,
      "grid_template_areas": null,
      "grid_template_columns": null,
      "grid_template_rows": null,
      "height": null,
      "justify_content": null,
      "justify_items": null,
      "left": null,
      "margin": null,
      "max_height": null,
      "max_width": null,
      "min_height": null,
      "min_width": null,
      "object_fit": null,
      "object_position": null,
      "order": null,
      "overflow": null,
      "overflow_x": null,
      "overflow_y": null,
      "padding": null,
      "right": null,
      "top": null,
      "visibility": null,
      "width": null
     }
    }
   }
  }
 },
 "nbformat": 4,
 "nbformat_minor": 5
}
